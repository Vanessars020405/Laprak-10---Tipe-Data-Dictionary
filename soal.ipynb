{
 "cells": [
  {
   "cell_type": "code",
   "execution_count": 22,
   "metadata": {},
   "outputs": [
    {
     "name": "stdout",
     "output_type": "stream",
     "text": [
      "key\tvalue\titem\n",
      "1\t10\t1\n",
      "2\t20\t2\n",
      "3\t30\t3\n",
      "4\t40\t4\n",
      "5\t50\t5\n",
      "6\t60\t6\n"
     ]
    }
   ],
   "source": [
    "#Nomor 1\n",
    "dictionary = {1: 10, 2: 20, 3: 30, 4: 40, 5: 50, 6: 60}\n",
    "\n",
    "print(\"key\", \"value\", \"item\", sep='\\t')\n",
    "\n",
    "for key, value in dictionary.items():\n",
    "    print(key, value, key, sep='\\t')\n"
   ]
  },
  {
   "cell_type": "code",
   "execution_count": 23,
   "metadata": {},
   "outputs": [
    {
     "name": "stdout",
     "output_type": "stream",
     "text": [
      "{'green': '#008000', 'blue': '#0000FF', 'red': '#FF0000'}\n"
     ]
    }
   ],
   "source": [
    "#Nomor 2\n",
    "lista = ['red', 'green', 'blue']\n",
    "listb = ['#FF0000', '#008000', '#0000FF']\n",
    "\n",
    "hasil_dict = dict(zip(lista, listb))\n",
    "urutan_dict = {'green': hasil_dict['green'], 'blue': hasil_dict['blue'], 'red': hasil_dict['red']}\n",
    "print(urutan_dict)"
   ]
  },
  {
   "cell_type": "code",
   "execution_count": 16,
   "metadata": {},
   "outputs": [
    {
     "name": "stdout",
     "output_type": "stream",
     "text": [
      "{'stephen.marquard@uct.ac.za': 2, 'louis@media.berkeley.edu': 3, 'zqian@umich.edu': 4, 'rjlowe@iupui.edu': 2, 'cwen@iupui.edu': 5, 'gsilver@umich.edu': 3, 'wagnermr@iupui.edu': 1, 'antranig@caret.cam.ac.uk': 1, 'gopal.ramasammycook@gmail.com': 1, 'david.horwitz@uct.ac.za': 4, 'ray@media.berkeley.edu': 1}\n"
     ]
    }
   ],
   "source": [
    "#Nomor 3\n",
    "file=open('mbox-short.txt','r')\n",
    "hasil=dict()\n",
    "for a in file:\n",
    "    if a.startswith(\"From \"):\n",
    "        q = a.split()[1]\n",
    "        hasil[q] = hasil.get(q, 0) + 1\n",
    "print(hasil)"
   ]
  },
  {
   "cell_type": "code",
   "execution_count": 18,
   "metadata": {},
   "outputs": [
    {
     "name": "stdout",
     "output_type": "stream",
     "text": [
      "{'uct.ac.za': 6, 'media.berkeley.edu': 4, 'umich.edu': 7, 'iupui.edu': 8, 'caret.cam.ac.uk': 1, 'gmail.com': 1}\n"
     ]
    }
   ],
   "source": [
    "#Nomor 4\n",
    "nama_file = \"mbox-short.txt\"\n",
    "file = open('mbox-short.txt', 'r')\n",
    "\n",
    "hitung = {}\n",
    "for a in file:\n",
    "    if a.startswith('From '):\n",
    "        kata = a.split()\n",
    "        email = kata[1]\n",
    "        posisi = email.find('@')\n",
    "        bag_almt = email[posisi + 1:]\n",
    "        hitung[bag_almt] = hitung.get(bag_almt, 0)+1\n",
    "file.close()\n",
    "\n",
    "print(hitung)"
   ]
  }
 ],
 "metadata": {
  "kernelspec": {
   "display_name": "Python 3",
   "language": "python",
   "name": "python3"
  },
  "language_info": {
   "codemirror_mode": {
    "name": "ipython",
    "version": 3
   },
   "file_extension": ".py",
   "mimetype": "text/x-python",
   "name": "python",
   "nbconvert_exporter": "python",
   "pygments_lexer": "ipython3",
   "version": "3.12.0"
  }
 },
 "nbformat": 4,
 "nbformat_minor": 2
}
